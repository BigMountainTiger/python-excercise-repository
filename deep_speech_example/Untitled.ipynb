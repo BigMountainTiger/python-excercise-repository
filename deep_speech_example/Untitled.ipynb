{
 "cells": [
  {
   "cell_type": "markdown",
   "id": "bdf91f98-8d5a-42f9-9190-62b4c3c127c3",
   "metadata": {},
   "source": [
    "https://www.slanglabs.in/blog/how-to-build-python-transcriber-using-mozilla-deepspeech\n",
    "https://medium.com/@aadrkirandevraj/installing-and-running-pre-trained-deepspeech-model-a431f94f52d3\n",
    "\n",
    "https://discourse.mozilla.org/t/can-the-letters-of-the-alphabet-be-added-to-common-voice/53679\n",
    "\n",
    "It has not been able to read letters only"
   ]
  },
  {
   "cell_type": "code",
   "execution_count": 1,
   "id": "d289bf7b-1065-4f0a-b7ce-9c95957aacee",
   "metadata": {},
   "outputs": [
    {
     "ename": "ModuleNotFoundError",
     "evalue": "No module named 'deepspeech'",
     "output_type": "error",
     "traceback": [
      "\u001b[0;31m---------------------------------------------------------------------------\u001b[0m",
      "\u001b[0;31mModuleNotFoundError\u001b[0m                       Traceback (most recent call last)",
      "\u001b[0;32m/tmp/ipykernel_14108/2885271439.py\u001b[0m in \u001b[0;36m<module>\u001b[0;34m\u001b[0m\n\u001b[0;32m----> 1\u001b[0;31m \u001b[0;32mimport\u001b[0m \u001b[0mdeepspeech\u001b[0m\u001b[0;34m\u001b[0m\u001b[0;34m\u001b[0m\u001b[0m\n\u001b[0m\u001b[1;32m      2\u001b[0m \u001b[0mmodel_file_path\u001b[0m \u001b[0;34m=\u001b[0m \u001b[0;34m'deepspeech-0.9.3-models.pbmm123'\u001b[0m\u001b[0;34m\u001b[0m\u001b[0;34m\u001b[0m\u001b[0m\n\u001b[1;32m      3\u001b[0m \u001b[0mbeam_width\u001b[0m \u001b[0;34m=\u001b[0m \u001b[0;36m500\u001b[0m\u001b[0;34m\u001b[0m\u001b[0;34m\u001b[0m\u001b[0m\n\u001b[1;32m      4\u001b[0m \u001b[0;34m\u001b[0m\u001b[0m\n\u001b[1;32m      5\u001b[0m \u001b[0;31m# model = deepspeech.Model()\u001b[0m\u001b[0;34m\u001b[0m\u001b[0;34m\u001b[0m\u001b[0;34m\u001b[0m\u001b[0m\n",
      "\u001b[0;31mModuleNotFoundError\u001b[0m: No module named 'deepspeech'"
     ]
    }
   ],
   "source": [
    "import deepspeech\n",
    "model_file_path = 'deepspeech-0.9.3-models.pbmm123'\n",
    "beam_width = 500\n",
    "\n",
    "# model = deepspeech.Model()\n"
   ]
  }
 ],
 "metadata": {
  "kernelspec": {
   "display_name": "Python 3 (ipykernel)",
   "language": "python",
   "name": "python3"
  },
  "language_info": {
   "codemirror_mode": {
    "name": "ipython",
    "version": 3
   },
   "file_extension": ".py",
   "mimetype": "text/x-python",
   "name": "python",
   "nbconvert_exporter": "python",
   "pygments_lexer": "ipython3",
   "version": "3.9.5"
  }
 },
 "nbformat": 4,
 "nbformat_minor": 5
}
