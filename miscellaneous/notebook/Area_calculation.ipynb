{
 "cells": [
  {
   "cell_type": "code",
   "execution_count": 1,
   "id": "f60388c4",
   "metadata": {},
   "outputs": [],
   "source": [
    "import numpy as np"
   ]
  },
  {
   "cell_type": "code",
   "execution_count": 2,
   "id": "bc437d09",
   "metadata": {},
   "outputs": [],
   "source": [
    "def Calculate_Area(p1, p2, p3):\n",
    "    (x1, y1) = p1\n",
    "    (x2, y2) = p2\n",
    "    (x3, y3) = p3\n",
    "    \n",
    "    print(f'{x1}')\n",
    "    print(y1)\n",
    "    return abs(0.5 * (x1*(y2 - y3) + x2*(y3 - y1) + x3*(y1 - y2)))\n",
    "\n"
   ]
  },
  {
   "cell_type": "code",
   "execution_count": 3,
   "id": "a319c462",
   "metadata": {},
   "outputs": [
    {
     "name": "stdout",
     "output_type": "stream",
     "text": [
      "0\n",
      "0\n",
      "0\n",
      "0\n",
      "0\n",
      "0\n",
      "0\n",
      "0\n",
      "6.25 - 6.250000000000002 - 6.25 - 6.250000000000002\n",
      "Total = 25.0\n"
     ]
    }
   ],
   "source": [
    "def Area(L):\n",
    "    \n",
    "    A1 = np.array([[1, 2], L])\n",
    "    A2 = np.array([[3, 4], L])\n",
    "    \n",
    "    b = np.array([0, 5])\n",
    "    x1 = np.linalg.solve(A1, b)\n",
    "    x2 = np.linalg.solve(A2, b)\n",
    "    \n",
    "    return Calculate_Area((0, 0), (x1[0], x1[1]), (x2[0], x2[1]))\n",
    "    \n",
    "A1 = Area([-4, -6])\n",
    "A2 = Area([-2, -2])\n",
    "A3 = Area([4, 6])\n",
    "A4 = Area([2, 2])\n",
    "print(f'{A1} - {A2} - {A3} - {A4}')\n",
    "print(f'Total = {A1 + A2 + A3 + A4}')\n",
    "\n"
   ]
  }
 ],
 "metadata": {
  "kernelspec": {
   "display_name": "Python 3",
   "language": "python",
   "name": "python3"
  },
  "language_info": {
   "codemirror_mode": {
    "name": "ipython",
    "version": 3
   },
   "file_extension": ".py",
   "mimetype": "text/x-python",
   "name": "python",
   "nbconvert_exporter": "python",
   "pygments_lexer": "ipython3",
   "version": "3.8.10"
  }
 },
 "nbformat": 4,
 "nbformat_minor": 5
}
