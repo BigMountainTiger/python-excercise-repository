{
 "cells": [
  {
   "cell_type": "code",
   "execution_count": 1,
   "id": "f60388c4",
   "metadata": {},
   "outputs": [],
   "source": [
    "import numpy as np\n",
    "import matplotlib.pyplot as plt"
   ]
  },
  {
   "cell_type": "code",
   "execution_count": 2,
   "id": "bc437d09",
   "metadata": {},
   "outputs": [],
   "source": [
    "def GetMin(a):\n",
    "    m = 100\n",
    "    for x in np.linspace(-1, 2, num=3001):\n",
    "        y = (a ** (2 * x)) - 4 * (a ** x) - 1\n",
    "        if (y < m):\n",
    "            m = y\n",
    "    \n",
    "    return m"
   ]
  },
  {
   "cell_type": "code",
   "execution_count": 3,
   "id": "a319c462",
   "metadata": {},
   "outputs": [],
   "source": [
    "def Option_A():\n",
    "    A = []\n",
    "    M = []\n",
    "    \n",
    "    a = 1/2\n",
    "    A.append(a)\n",
    "    M.append(GetMin(a))\n",
    "    \n",
    "    a = 2 ** (1/2) - 1\n",
    "    for i in range(0, 10):\n",
    "        a += 1\n",
    "        A.append(a)\n",
    "        M.append(GetMin(a))\n",
    "        \n",
    "    plt.figure(figsize=(15,3))\n",
    "    plt.plot(A, M)\n",
    "    plt.ylim(-8, 0) \n",
    "    plt.title(\"Option A\")\n",
    "    plt.show()\n"
   ]
  },
  {
   "cell_type": "code",
   "execution_count": 4,
   "id": "c90349bc",
   "metadata": {},
   "outputs": [],
   "source": [
    "def Option_B():\n",
    "    A = []\n",
    "    M = []\n",
    "    \n",
    "    for i in range(1, 101):\n",
    "        a = i * 0.01\n",
    "        A.append(a)\n",
    "        M.append(GetMin(a))\n",
    "        \n",
    "    \n",
    "    a = 2 ** (1/2) - 1\n",
    "    for i in range(0, 10):\n",
    "        a += 1\n",
    "        A.append(a)\n",
    "        M.append(GetMin(a))\n",
    "        \n",
    "    plt.figure(figsize=(15,3))\n",
    "    plt.plot(A, M)\n",
    "    plt.ylim(-8, 0) \n",
    "    plt.title(\"Option B\")\n",
    "    plt.show()"
   ]
  },
  {
   "cell_type": "code",
   "execution_count": 5,
   "id": "e641bc4c",
   "metadata": {},
   "outputs": [],
   "source": [
    "def Option_C():\n",
    "    A = []\n",
    "    M = []\n",
    "    \n",
    "    for i in range(1, 100):\n",
    "        a = i * 0.005\n",
    "        A.append(a)\n",
    "        M.append(GetMin(a))\n",
    "    \n",
    "    a = 2 ** (1/2) - 1\n",
    "    for i in range(0, 10):\n",
    "        a += 1\n",
    "        A.append(a)\n",
    "        M.append(GetMin(a))\n",
    "        \n",
    "    plt.figure(figsize=(15,3))\n",
    "    plt.plot(A, M)\n",
    "    plt.ylim(-8, 0) \n",
    "    plt.title(\"Option C\")\n",
    "    plt.show()"
   ]
  },
  {
   "cell_type": "code",
   "execution_count": 6,
   "id": "47f32827",
   "metadata": {},
   "outputs": [
    {
     "data": {
      "image/png": "[encoded data removed]",
      "text/plain": [
       "<Figure size 1080x216 with 1 Axes>"
      ]
     },
     "metadata": {
      "needs_background": "light"
     },
     "output_type": "display_data"
    },
    {
     "data": {
      "image/png": "[encoded data removed]",
      "text/plain": [
       "<Figure size 1080x216 with 1 Axes>"
      ]
     },
     "metadata": {
      "needs_background": "light"
     },
     "output_type": "display_data"
    },
    {
     "data": {
      "image/png": "[encoded data removed]",
      "text/plain": [
       "<Figure size 1080x216 with 1 Axes>"
      ]
     },
     "metadata": {
      "needs_background": "light"
     },
     "output_type": "display_data"
    }
   ],
   "source": [
    "Option_A()\n",
    "Option_B()\n",
    "Option_C()"
   ]
  }
 ],
 "metadata": {
  "kernelspec": {
   "display_name": "Python 3",
   "language": "python",
   "name": "python3"
  },
  "language_info": {
   "codemirror_mode": {
    "name": "ipython",
    "version": 3
   },
   "file_extension": ".py",
   "mimetype": "text/x-python",
   "name": "python",
   "nbconvert_exporter": "python",
   "pygments_lexer": "ipython3",
   "version": "3.8.5"
  }
 },
 "nbformat": 4,
 "nbformat_minor": 5
}
